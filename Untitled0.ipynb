{
  "nbformat": 4,
  "nbformat_minor": 0,
  "metadata": {
    "colab": {
      "provenance": [],
      "authorship_tag": "ABX9TyOGYuwafrQ6rndVBYbDuV79",
      "include_colab_link": true
    },
    "kernelspec": {
      "name": "python3",
      "display_name": "Python 3"
    },
    "language_info": {
      "name": "python"
    }
  },
  "cells": [
    {
      "cell_type": "markdown",
      "metadata": {
        "id": "view-in-github",
        "colab_type": "text"
      },
      "source": [
        "<a href=\"https://colab.research.google.com/github/Mrasad210/mrasad12github.io/blob/main/Untitled0.ipynb\" target=\"_parent\"><img src=\"https://colab.research.google.com/assets/colab-badge.svg\" alt=\"Open In Colab\"/></a>"
      ]
    },
    {
      "cell_type": "code",
      "execution_count": 3,
      "metadata": {
        "colab": {
          "base_uri": "https://localhost:8080/"
        },
        "id": "lpdKecRzPm8j",
        "outputId": "52ee175d-a846-418e-a246-1eeb9397167b"
      },
      "outputs": [
        {
          "output_type": "stream",
          "name": "stdout",
          "text": [
            "1\n",
            "2\n",
            "3\n",
            "4\n",
            "5\n"
          ]
        }
      ],
      "source": [
        "#question 1. Print number from 1 to 5 using a while loop.\n",
        "num=1\n",
        "while num<=5:\n",
        "  print(num)\n",
        "  num=num+1\n"
      ]
    },
    {
      "cell_type": "code",
      "source": [
        "#question 2. Calculate the sum of number from 1 to 10 using a while loop.\n",
        "\n",
        "num = 1\n",
        "sum_of_numbers = 0\n",
        "\n",
        "while num <= 10:\n",
        "    sum_of_numbers += num\n",
        "    num += 1\n",
        "print(\"The sum of numbers from 1 to 10 is:\", sum_of_numbers)\n"
      ],
      "metadata": {
        "colab": {
          "base_uri": "https://localhost:8080/"
        },
        "id": "6eJSp5gwQrIv",
        "outputId": "8f313ac6-6136-4505-fc7d-000dfd86c8ac"
      },
      "execution_count": 4,
      "outputs": [
        {
          "output_type": "stream",
          "name": "stdout",
          "text": [
            "The sum of numbers from 1 to 10 is: 55\n"
          ]
        }
      ]
    },
    {
      "cell_type": "code",
      "source": [
        "# question 3. Calculate the factorial of a number using a for loop.\n",
        "\n",
        "def factorial(n):\n",
        "    result = 1\n",
        "    for i in range(1, n + 1):\n",
        "        result *= i\n",
        "    return result\n",
        "number = 5\n",
        "factorial_of_number = factorial(number)\n",
        "print(f\"The factorial of {number} is:\", factorial_of_number)\n"
      ],
      "metadata": {
        "colab": {
          "base_uri": "https://localhost:8080/"
        },
        "id": "W6O7X5zVRpx8",
        "outputId": "dfc6c405-a215-4711-b146-f0930cb008ca"
      },
      "execution_count": 5,
      "outputs": [
        {
          "output_type": "stream",
          "name": "stdout",
          "text": [
            "The factorial of 5 is: 120\n"
          ]
        }
      ]
    },
    {
      "cell_type": "code",
      "source": [
        "#question 4. count the number of vowels in a tring using a for loop.\n",
        "\n",
        "def count_vowels(input_string):\n",
        "\n",
        "    vowels = 'aeiouAEIOU'\n",
        "    vowel_count = 0\n",
        "    for char in input_string:\n",
        "        if char in vowels:\n",
        "            vowel_count += 1\n",
        "\n",
        "    return vowel_count\n",
        "input_str = \"Hello, World!\"\n",
        "vowel_count = count_vowels(input_str)\n",
        "print(\"Number of vowels in the string:\", vowel_count)\n"
      ],
      "metadata": {
        "colab": {
          "base_uri": "https://localhost:8080/"
        },
        "id": "X1Oe14syTiyJ",
        "outputId": "795589ce-8292-45c1-c75d-5680c013e601"
      },
      "execution_count": 6,
      "outputs": [
        {
          "output_type": "stream",
          "name": "stdout",
          "text": [
            "Number of vowels in the string: 3\n"
          ]
        }
      ]
    },
    {
      "cell_type": "code",
      "source": [
        "#question 5. Print a pattern using nested loop.\n",
        "r=5\n",
        "for i in range(r):\n",
        "  for j in range(i+1):\n",
        "    print(\"*\", end=\" \")\n",
        "  print()"
      ],
      "metadata": {
        "colab": {
          "base_uri": "https://localhost:8080/"
        },
        "id": "mINTd0oXUMYR",
        "outputId": "01a14e73-2d17-4bfd-f614-24b17e0b8025"
      },
      "execution_count": 9,
      "outputs": [
        {
          "output_type": "stream",
          "name": "stdout",
          "text": [
            "* \n",
            "* * \n",
            "* * * \n",
            "* * * * \n",
            "* * * * * \n"
          ]
        }
      ]
    },
    {
      "cell_type": "code",
      "source": [
        "#question 6. Generate a multiplication table using a nested loop.\n",
        "num_range = range(1, 11)\n",
        "\n",
        "for i in num_range:\n",
        "    for j in num_range:\n",
        "        product = i * j\n",
        "        print(f\"{i} * {j} = {product}\", end=\"\\t\")\n",
        "    print()"
      ],
      "metadata": {
        "colab": {
          "base_uri": "https://localhost:8080/"
        },
        "id": "Vhc-yclKU_-N",
        "outputId": "497661d7-cf44-4f23-e6ea-a7307c0c5d3f"
      },
      "execution_count": 12,
      "outputs": [
        {
          "output_type": "stream",
          "name": "stdout",
          "text": [
            "1 * 1 = 1\t1 * 2 = 2\t1 * 3 = 3\t1 * 4 = 4\t1 * 5 = 5\t1 * 6 = 6\t1 * 7 = 7\t1 * 8 = 8\t1 * 9 = 9\t1 * 10 = 10\t\n",
            "2 * 1 = 2\t2 * 2 = 4\t2 * 3 = 6\t2 * 4 = 8\t2 * 5 = 10\t2 * 6 = 12\t2 * 7 = 14\t2 * 8 = 16\t2 * 9 = 18\t2 * 10 = 20\t\n",
            "3 * 1 = 3\t3 * 2 = 6\t3 * 3 = 9\t3 * 4 = 12\t3 * 5 = 15\t3 * 6 = 18\t3 * 7 = 21\t3 * 8 = 24\t3 * 9 = 27\t3 * 10 = 30\t\n",
            "4 * 1 = 4\t4 * 2 = 8\t4 * 3 = 12\t4 * 4 = 16\t4 * 5 = 20\t4 * 6 = 24\t4 * 7 = 28\t4 * 8 = 32\t4 * 9 = 36\t4 * 10 = 40\t\n",
            "5 * 1 = 5\t5 * 2 = 10\t5 * 3 = 15\t5 * 4 = 20\t5 * 5 = 25\t5 * 6 = 30\t5 * 7 = 35\t5 * 8 = 40\t5 * 9 = 45\t5 * 10 = 50\t\n",
            "6 * 1 = 6\t6 * 2 = 12\t6 * 3 = 18\t6 * 4 = 24\t6 * 5 = 30\t6 * 6 = 36\t6 * 7 = 42\t6 * 8 = 48\t6 * 9 = 54\t6 * 10 = 60\t\n",
            "7 * 1 = 7\t7 * 2 = 14\t7 * 3 = 21\t7 * 4 = 28\t7 * 5 = 35\t7 * 6 = 42\t7 * 7 = 49\t7 * 8 = 56\t7 * 9 = 63\t7 * 10 = 70\t\n",
            "8 * 1 = 8\t8 * 2 = 16\t8 * 3 = 24\t8 * 4 = 32\t8 * 5 = 40\t8 * 6 = 48\t8 * 7 = 56\t8 * 8 = 64\t8 * 9 = 72\t8 * 10 = 80\t\n",
            "9 * 1 = 9\t9 * 2 = 18\t9 * 3 = 27\t9 * 4 = 36\t9 * 5 = 45\t9 * 6 = 54\t9 * 7 = 63\t9 * 8 = 72\t9 * 9 = 81\t9 * 10 = 90\t\n",
            "10 * 1 = 10\t10 * 2 = 20\t10 * 3 = 30\t10 * 4 = 40\t10 * 5 = 50\t10 * 6 = 60\t10 * 7 = 70\t10 * 8 = 80\t10 * 9 = 90\t10 * 10 = 100\t\n"
          ]
        }
      ]
    },
    {
      "cell_type": "code",
      "source": [],
      "metadata": {
        "id": "NS9MrjDJWIyt"
      },
      "execution_count": null,
      "outputs": []
    }
  ]
}