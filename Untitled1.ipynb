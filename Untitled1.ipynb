{
  "nbformat": 4,
  "nbformat_minor": 0,
  "metadata": {
    "colab": {
      "provenance": [],
      "authorship_tag": "ABX9TyNZsW2MbH6Yz1jV6bMzMrYI",
      "include_colab_link": true
    },
    "kernelspec": {
      "name": "python3",
      "display_name": "Python 3"
    },
    "language_info": {
      "name": "python"
    }
  },
  "cells": [
    {
      "cell_type": "markdown",
      "metadata": {
        "id": "view-in-github",
        "colab_type": "text"
      },
      "source": [
        "<a href=\"https://colab.research.google.com/github/Mrasad210/mrasad12github.io/blob/main/Untitled1.ipynb\" target=\"_parent\"><img src=\"https://colab.research.google.com/assets/colab-badge.svg\" alt=\"Open In Colab\"/></a>"
      ]
    },
    {
      "cell_type": "code",
      "execution_count": 1,
      "metadata": {
        "colab": {
          "base_uri": "https://localhost:8080/"
        },
        "id": "T614QP1g3i_I",
        "outputId": "9f87456e-8f0b-4a2e-9493-beacbb92f578"
      },
      "outputs": [
        {
          "output_type": "stream",
          "name": "stdout",
          "text": [
            "10.0\n"
          ]
        }
      ],
      "source": [
        "#Convert an integer to a floating-point number.\n",
        "\n",
        "my_integer = 10\n",
        "my_float = float(my_integer)\n",
        "print(my_float)\n"
      ]
    },
    {
      "cell_type": "code",
      "source": [
        "# Convert a float to a iteger.\n",
        "my_float  = 10.3\n",
        "my_integer = int(my_float)\n",
        "print(my_integer)"
      ],
      "metadata": {
        "colab": {
          "base_uri": "https://localhost:8080/"
        },
        "id": "arRMU-Wb3_R6",
        "outputId": "909af03d-5eeb-4698-ee18-96efa018b35e"
      },
      "execution_count": 2,
      "outputs": [
        {
          "output_type": "stream",
          "name": "stdout",
          "text": [
            "10\n"
          ]
        }
      ]
    },
    {
      "cell_type": "code",
      "source": [
        "# convert an integer to a string.\n",
        "my_integer = 12\n",
        "my_string = str(my_integer)\n",
        "print(my_string)\n"
      ],
      "metadata": {
        "colab": {
          "base_uri": "https://localhost:8080/"
        },
        "id": "f22aL5UC4dGq",
        "outputId": "7b890a4b-72c2-409b-be61-d66911d2a970"
      },
      "execution_count": 8,
      "outputs": [
        {
          "output_type": "stream",
          "name": "stdout",
          "text": [
            "12\n"
          ]
        }
      ]
    },
    {
      "cell_type": "code",
      "source": [
        "#Covert a list to a tuple.\n",
        "my_list = [1,2,3,4,5]\n",
        "my_tuple= tuple(my_list)\n",
        "print(my_tuple)"
      ],
      "metadata": {
        "colab": {
          "base_uri": "https://localhost:8080/"
        },
        "id": "IM-hgFd65L7k",
        "outputId": "7e5ae342-6353-439a-e653-3cbd08f5c304"
      },
      "execution_count": 9,
      "outputs": [
        {
          "output_type": "stream",
          "name": "stdout",
          "text": [
            "(1, 2, 3, 4, 5)\n"
          ]
        }
      ]
    },
    {
      "cell_type": "code",
      "source": [
        "#Convert a tuple to a list\n",
        "my_tuple = (1,2,3,4,5)\n",
        "my_list = list(my_tuple)\n",
        "print(my_list)"
      ],
      "metadata": {
        "colab": {
          "base_uri": "https://localhost:8080/"
        },
        "id": "A8HaGEmb6F4M",
        "outputId": "1e98eea4-850b-4645-fd95-45dcaf28d608"
      },
      "execution_count": 10,
      "outputs": [
        {
          "output_type": "stream",
          "name": "stdout",
          "text": [
            "[1, 2, 3, 4, 5]\n"
          ]
        }
      ]
    },
    {
      "cell_type": "code",
      "source": [
        "#Convert a decimal number to binary.\n",
        "my_decimal = 5\n",
        "my_binary = bin(my_decimal)\n",
        "print(my_binary)"
      ],
      "metadata": {
        "colab": {
          "base_uri": "https://localhost:8080/"
        },
        "id": "QofyNEu06j5B",
        "outputId": "0852bb46-db23-4819-a38d-e4eb5e1a4526"
      },
      "execution_count": 11,
      "outputs": [
        {
          "output_type": "stream",
          "name": "stdout",
          "text": [
            "0b101\n"
          ]
        }
      ]
    },
    {
      "cell_type": "code",
      "source": [
        "#Convert a noo-zero number to boolean.\n",
        "my_number = 3\n",
        "my_boolean = bool(my_number)\n",
        "print(my_boolean)"
      ],
      "metadata": {
        "colab": {
          "base_uri": "https://localhost:8080/"
        },
        "id": "PKbXHx6T7CsL",
        "outputId": "311bcad2-974a-4ffd-9335-3e293bec1bfb"
      },
      "execution_count": 12,
      "outputs": [
        {
          "output_type": "stream",
          "name": "stdout",
          "text": [
            "True\n"
          ]
        }
      ]
    },
    {
      "cell_type": "code",
      "source": [],
      "metadata": {
        "id": "8KUjrcWT7oro"
      },
      "execution_count": null,
      "outputs": []
    }
  ]
}