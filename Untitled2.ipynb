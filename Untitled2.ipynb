{
  "nbformat": 4,
  "nbformat_minor": 0,
  "metadata": {
    "colab": {
      "provenance": [],
      "authorship_tag": "ABX9TyMvHUCMtbZXOTgsrz5RughO",
      "include_colab_link": true
    },
    "kernelspec": {
      "name": "python3",
      "display_name": "Python 3"
    },
    "language_info": {
      "name": "python"
    }
  },
  "cells": [
    {
      "cell_type": "markdown",
      "metadata": {
        "id": "view-in-github",
        "colab_type": "text"
      },
      "source": [
        "<a href=\"https://colab.research.google.com/github/Mrasad210/mrasad12github.io/blob/main/Untitled2.ipynb\" target=\"_parent\"><img src=\"https://colab.research.google.com/assets/colab-badge.svg\" alt=\"Open In Colab\"/></a>"
      ]
    },
    {
      "cell_type": "code",
      "execution_count": 1,
      "metadata": {
        "colab": {
          "base_uri": "https://localhost:8080/"
        },
        "id": "s-GDeoXAzc7i",
        "outputId": "70ee2e9d-b464-45f7-cd1d-b2fa2433426c"
      },
      "outputs": [
        {
          "output_type": "stream",
          "name": "stdout",
          "text": [
            "10\n",
            "4\n",
            "21\n",
            "1\n"
          ]
        }
      ],
      "source": [
        "# Calculate the sum, difference, product, and quotient of two numbers.\n",
        "\n",
        "#sum\n",
        "first_num = 7\n",
        "second_num = 3\n",
        "sum = first_num + second_num\n",
        "difference = first_num - second_num\n",
        "product = first_num * second_num\n",
        "quotient = first_num % second_num\n",
        "\n",
        "print(sum)\n",
        "print(difference)\n",
        "print(product)\n",
        "print(quotient)"
      ]
    },
    {
      "cell_type": "code",
      "source": [
        "# perform various assignment operations on a variable.\n",
        "a=8\n",
        "# Initialize a variable\n",
        "x = 10\n",
        "\n",
        "# Perform various assignment operations\n",
        "x += 5\n",
        "print(\"After addition, x is\", x)\n",
        "\n",
        "x -= 3\n",
        "print(\"After subtraction, x is\", x)\n",
        "\n",
        "x *= 2\n",
        "print(\"After multiplication, x is\", x)\n",
        "\n",
        "x /= 4\n",
        "print(\"After division, x is\", x)\n",
        "\n",
        "x **= 2\n",
        "print(\"After exponentiation, x is\", x)\n",
        "\n",
        "x %= 5\n",
        "print(\"After modulus operation, x is\", x)\n",
        "\n",
        "x //= 3\n",
        "print(\"After floor division, x is\", x)\n",
        "\n",
        "\n",
        "\n",
        "\n"
      ],
      "metadata": {
        "colab": {
          "base_uri": "https://localhost:8080/"
        },
        "id": "qupRJ0AT1Dll",
        "outputId": "69634606-6e7b-44db-cc7a-8782b5164f6d"
      },
      "execution_count": 7,
      "outputs": [
        {
          "output_type": "stream",
          "name": "stdout",
          "text": [
            "After addition, x is 15\n",
            "After subtraction, x is 12\n",
            "After multiplication, x is 24\n",
            "After division, x is 6.0\n",
            "After exponentiation, x is 36.0\n",
            "After modulus operation, x is 1.0\n",
            "After floor division, x is 0.0\n"
          ]
        }
      ]
    },
    {
      "cell_type": "code",
      "source": [
        "# Compare two numbers and print the results.\n",
        "def compare_numbers(num1, num2):\n",
        "    if num1 > num2:\n",
        "        print(num1, \"is greater than\", num2)\n",
        "    elif num1 < num2:\n",
        "        print(num1, \"is less than\", num2)\n",
        "    else:\n",
        "        print(num1, \"is equal to\", num2)\n",
        "\n",
        "# Example usage\n",
        "num1 = 10\n",
        "num2 = 5\n",
        "\n",
        "compare_numbers(num1, num2)\n"
      ],
      "metadata": {
        "colab": {
          "base_uri": "https://localhost:8080/"
        },
        "id": "iANnQJBD2BoI",
        "outputId": "f48d8de6-bc8d-4fd7-acac-2eaa8f1ea779"
      },
      "execution_count": 9,
      "outputs": [
        {
          "output_type": "stream",
          "name": "stdout",
          "text": [
            "10 is greater than 5\n"
          ]
        }
      ]
    },
    {
      "cell_type": "code",
      "source": [
        "# check conditions using logical operators.\n",
        "\n",
        "def check_conditions(x, y):\n",
        "    # Check conditions using logical operators\n",
        "    if x > 0 and y > 0:\n",
        "        print(\"Both x and y are positive.\")\n",
        "    elif x > 0 or y > 0:\n",
        "        print(\"At least one of x and y is positive.\")\n",
        "    else:\n",
        "        print(\"Both x and y are non-positive.\")\n",
        "\n",
        "    if x == y:\n",
        "        print(\"x and y are equal.\")\n",
        "    elif x != y:\n",
        "        print(\"x and y are not equal.\")\n",
        "\n",
        "# Example usage\n",
        "x = 5\n",
        "y = -3\n",
        "\n",
        "check_conditions(x, y)\n"
      ],
      "metadata": {
        "colab": {
          "base_uri": "https://localhost:8080/"
        },
        "id": "AT6ocz2H29ZX",
        "outputId": "95d49cae-87f8-4f7c-e28c-c64d9473c9ad"
      },
      "execution_count": 10,
      "outputs": [
        {
          "output_type": "stream",
          "name": "stdout",
          "text": [
            "At least one of x and y is positive.\n",
            "x and y are not equal.\n"
          ]
        }
      ]
    },
    {
      "cell_type": "code",
      "source": [
        "# prompt: Check the identity of variables.\n",
        "\n",
        "x = [1, 2, 3]\n",
        "y = [1, 2, 3]\n",
        "\n",
        "if x is y:\n",
        "    print(\"x and y are the same object.\")\n",
        "else:\n",
        "    print(\"x and y are different objects.\")\n",
        "\n",
        "\n"
      ],
      "metadata": {
        "colab": {
          "base_uri": "https://localhost:8080/"
        },
        "id": "mmCO6e5v3xMt",
        "outputId": "70b1a7d3-e39a-4743-af53-be61939ca074"
      },
      "execution_count": 11,
      "outputs": [
        {
          "output_type": "stream",
          "name": "stdout",
          "text": [
            "x and y are different objects.\n"
          ]
        }
      ]
    },
    {
      "cell_type": "code",
      "source": [
        "# Perform bitwise operations on any two integers.\n",
        "\n",
        "# Define two integers\n",
        "num1 = 10\n",
        "num2 = 7\n",
        "\n",
        "bitwise_and = num1 & num2\n",
        "print(\"Bitwise AND:\", bitwise_and)\n",
        "\n",
        "bitwise_or = num1 | num2\n",
        "print(\"Bitwise OR:\", bitwise_or)\n",
        "\n",
        "bitwise_xor = num1 ^ num2\n",
        "print(\"Bitwise XOR:\", bitwise_xor)\n",
        "\n",
        "bitwise_not_num1 = ~num1\n",
        "print(\"Bitwise NOT (complement) of num1:\", bitwise_not_num1)\n",
        "\n",
        "bitwise_left_shift = num1 << 2\n",
        "print(\"Bitwise Left Shift:\", bitwise_left_shift)\n",
        "\n",
        "bitwise_right_shift = num1 >> 2\n",
        "print(\"Bitwise Right Shift:\", bitwise_right_shift)"
      ],
      "metadata": {
        "colab": {
          "base_uri": "https://localhost:8080/"
        },
        "id": "DV51layw4Suv",
        "outputId": "1df23ea3-3300-436f-d6c8-40983290749e"
      },
      "execution_count": 12,
      "outputs": [
        {
          "output_type": "stream",
          "name": "stdout",
          "text": [
            "Bitwise AND: 2\n",
            "Bitwise OR: 15\n",
            "Bitwise XOR: 13\n",
            "Bitwise NOT (complement) of num1: -11\n",
            "Bitwise Left Shift: 40\n",
            "Bitwise Right Shift: 2\n"
          ]
        }
      ]
    },
    {
      "cell_type": "code",
      "source": [
        "#Use binary operators to change the sign of a number\n",
        "def change_sign(number):\n",
        "    return (~number) + 1\n",
        "\n",
        "number = 10\n",
        "changed_number = change_sign(number)\n",
        "print(\"Original number:\", number)\n",
        "print(\"Changed number with opposite sign:\", changed_number)\n"
      ],
      "metadata": {
        "colab": {
          "base_uri": "https://localhost:8080/"
        },
        "id": "Dp-_KZjh419a",
        "outputId": "43a32d01-ee74-4bd7-a926-4a5d20257fce"
      },
      "execution_count": 13,
      "outputs": [
        {
          "output_type": "stream",
          "name": "stdout",
          "text": [
            "Original number: 10\n",
            "Changed number with opposite sign: -10\n"
          ]
        }
      ]
    },
    {
      "cell_type": "code",
      "source": [
        "# Use the ternary operator to assign value based on condition\n",
        "x = 10\n",
        "result = \"Positive\" if x > 0 else \"Non-positive\"\n",
        "\n",
        "print(\"Result based on condition:\", result)\n"
      ],
      "metadata": {
        "colab": {
          "base_uri": "https://localhost:8080/"
        },
        "id": "zTIDNDJO5G4f",
        "outputId": "bdb2469d-2b9c-46c3-bc76-194bbc5e5002"
      },
      "execution_count": 14,
      "outputs": [
        {
          "output_type": "stream",
          "name": "stdout",
          "text": [
            "Result based on condition: Positive\n"
          ]
        }
      ]
    },
    {
      "cell_type": "code",
      "source": [],
      "metadata": {
        "id": "YnpO4lsC5fCq"
      },
      "execution_count": null,
      "outputs": []
    }
  ]
}