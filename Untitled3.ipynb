{
  "nbformat": 4,
  "nbformat_minor": 0,
  "metadata": {
    "colab": {
      "provenance": [],
      "authorship_tag": "ABX9TyPDV9VCveMFp7rqskKSweQ0",
      "include_colab_link": true
    },
    "kernelspec": {
      "name": "python3",
      "display_name": "Python 3"
    },
    "language_info": {
      "name": "python"
    }
  },
  "cells": [
    {
      "cell_type": "markdown",
      "metadata": {
        "id": "view-in-github",
        "colab_type": "text"
      },
      "source": [
        "<a href=\"https://colab.research.google.com/github/Mrasad210/mrasad12github.io/blob/main/Untitled3.ipynb\" target=\"_parent\"><img src=\"https://colab.research.google.com/assets/colab-badge.svg\" alt=\"Open In Colab\"/></a>"
      ]
    },
    {
      "cell_type": "code",
      "source": [],
      "metadata": {
        "id": "ulZXM1g9f3lM"
      },
      "execution_count": null,
      "outputs": []
    },
    {
      "cell_type": "markdown",
      "source": [
        "Q1. Explain the significance of Python keywords and provide examples of five keywords.\n",
        "\n",
        "Ans -\n",
        "  Python keywords are reserved words in the Python programming language that have special meanings and purposes. They cannot be used as identifiers (variable names, function names, etc.) because they are already defined to serve specific functions within the language. Understanding and using Python keywords correctly is crucial for writing efficient and readable code.\n",
        "  "
      ],
      "metadata": {
        "id": "ZwwLmNGWgAfp"
      }
    },
    {
      "cell_type": "markdown",
      "source": [],
      "metadata": {
        "id": "nF5pLNqIf48n"
      }
    },
    {
      "cell_type": "code",
      "execution_count": 2,
      "metadata": {
        "colab": {
          "base_uri": "https://localhost:8080/"
        },
        "id": "mgXG8E0dd1A7",
        "outputId": "71ab4ef6-a92d-46b7-c741-f16bc034c923"
      },
      "outputs": [
        {
          "output_type": "stream",
          "name": "stdout",
          "text": [
            "x is greater than 5\n"
          ]
        }
      ],
      "source": [
        "#if: The if keyword is used for conditional statements in Python.\n",
        "#It allows you to execute a block of code only if a certain condition is true.\n",
        "\n",
        "x = 10\n",
        "if x > 5:\n",
        "    print(\"x is greater than 5\")\n"
      ]
    },
    {
      "cell_type": "code",
      "source": [
        "#for: The for keyword is used to iterate over a sequence (such as lists, tuples, or strings) or other iterable objects.\n",
        "#It allows you to execute a block of code repeatedly for each item in the sequence.\n",
        "fruits = [\"apple\", \"banana\", \"cherry\"]\n",
        "for fruit in fruits:\n",
        "    print(fruit)\n"
      ],
      "metadata": {
        "colab": {
          "base_uri": "https://localhost:8080/"
        },
        "id": "rfSoI64-gXMT",
        "outputId": "0b044907-d615-488b-a77e-75b9415bc01a"
      },
      "execution_count": 4,
      "outputs": [
        {
          "output_type": "stream",
          "name": "stdout",
          "text": [
            "apple\n",
            "banana\n",
            "cherry\n"
          ]
        }
      ]
    },
    {
      "cell_type": "code",
      "source": [
        "#while: The while keyword is used to create a loop that continues executing a block of code as long as a specified condition is true.\n",
        "\n",
        "count = 0\n",
        "while count < 5:\n",
        "    print(count)\n",
        "    count += 1"
      ],
      "metadata": {
        "colab": {
          "base_uri": "https://localhost:8080/"
        },
        "id": "PJEsnN8dgo5b",
        "outputId": "8cbf3d4a-dd33-4fdb-90d8-1e289fe22214"
      },
      "execution_count": 5,
      "outputs": [
        {
          "output_type": "stream",
          "name": "stdout",
          "text": [
            "0\n",
            "1\n",
            "2\n",
            "3\n",
            "4\n"
          ]
        }
      ]
    },
    {
      "cell_type": "code",
      "source": [
        "#def: The def keyword is used to define a function in Python. It marks the beginning of the function definition block.\n",
        "\n",
        "def greet(name):\n",
        "    print(\"Hello,\", name)\n",
        "\n",
        "greet(\"Alice\")"
      ],
      "metadata": {
        "colab": {
          "base_uri": "https://localhost:8080/"
        },
        "id": "ypkwzCLHg_DD",
        "outputId": "dc61f829-3ed3-4b5b-9281-2982d71faabc"
      },
      "execution_count": 6,
      "outputs": [
        {
          "output_type": "stream",
          "name": "stdout",
          "text": [
            "Hello, Alice\n"
          ]
        }
      ]
    },
    {
      "cell_type": "code",
      "source": [
        "#return: The return keyword is used inside a function to exit the function and return a value to the caller.\n",
        "def add(a, b):\n",
        "    return a + b\n",
        "\n",
        "result = add(3, 5)\n",
        "print(result)\n"
      ],
      "metadata": {
        "colab": {
          "base_uri": "https://localhost:8080/"
        },
        "id": "KXlXFFuMhIaP",
        "outputId": "69834653-45ba-4d77-9166-7a7840ec9164"
      },
      "execution_count": 7,
      "outputs": [
        {
          "output_type": "stream",
          "name": "stdout",
          "text": [
            "8\n"
          ]
        }
      ]
    },
    {
      "cell_type": "code",
      "source": [],
      "metadata": {
        "id": "qZsUNPQvhS_g"
      },
      "execution_count": null,
      "outputs": []
    },
    {
      "cell_type": "markdown",
      "source": [
        "Q2.Descri0e the rules for defining identifiers in Python and provide an example\n",
        "\n",
        "Ans - In Python, identifiers are names given to variables, functions, classes, modules, etc. They are used to uniquely identify these entities within the code. Here are the rules for defining identifiers in Python:\n",
        "\n",
        "Valid Characters: Identifiers can include letters (both uppercase and lowercase), digits, and underscores. However, they cannot start with a digit.\n",
        "\n",
        "Case Sensitivity: Python is case-sensitive, meaning uppercase and lowercase letters are treated as distinct. For example, variable, Variable, and VARIABLE are all considered different identifiers.\n",
        "\n",
        "Reserved Keywords: Identifiers cannot be the same as Python keywords or reserved words.\n",
        "\n",
        "Length: There is no limit on the length of identifiers, but it's recommended to keep them concise and meaningful for readability.\n",
        "\n",
        "Convention: It's a convention in Python to use lowercase letters for variable names and lowercase_with_underscores for functions, methods, and module names. For class names, the convention is to use CamelCase (capitalizing the first letter of each word).\n",
        "\n",
        "No Special Characters: Special characters such as !, @, #, $, %, etc., are not allowed in identifiers."
      ],
      "metadata": {
        "id": "0SF7Q7m5hrrx"
      }
    },
    {
      "cell_type": "code",
      "source": [
        "variable_name = 10\n",
        "my_function = lambda x: x * 2\n",
        "MyClass = type('MyClass', (object,), {'x': 10})\n"
      ],
      "metadata": {
        "id": "mgIm9MY0iAIW"
      },
      "execution_count": 10,
      "outputs": []
    },
    {
      "cell_type": "code",
      "source": [],
      "metadata": {
        "id": "aZ1G4oV-iAzC"
      },
      "execution_count": null,
      "outputs": []
    },
    {
      "cell_type": "markdown",
      "source": [
        "Q3. What are comments in Python, and why are they useful? Provide an example\n",
        "\n",
        "Ans - Comments in Python are lines of text that are ignored by the Python interpreter. They are used to annotate code with explanations, notes, or reminders for the programmer or other collaborators. Comments are not executed as part of the program and are purely for human readability.\n",
        "\n"
      ],
      "metadata": {
        "id": "JIQpYWvtjHfJ"
      }
    },
    {
      "cell_type": "code",
      "source": [
        "# This is a single-line comment\n",
        "\n",
        "# Calculate the sum of two numbers\n",
        "a = 5  # Assigning value 5 to variable 'a'\n",
        "b = 3  # Assigning value 3 to variable 'b'\n",
        "\n",
        "# Add the two numbers together and store the result in 'sum'\n",
        "sum = a + b  # Adding 'a' and 'b' and assigning the result to 'sum'\n",
        "\n",
        "# Display the result\n",
        "print(\"The sum of\", a, \"and\", b, \"is\", sum)  # Output the sum\n"
      ],
      "metadata": {
        "colab": {
          "base_uri": "https://localhost:8080/"
        },
        "id": "XuT3txzRjgVg",
        "outputId": "48c5a985-b2ba-481b-b571-3fb8e260efc3"
      },
      "execution_count": 13,
      "outputs": [
        {
          "output_type": "stream",
          "name": "stdout",
          "text": [
            "The sum of 5 and 3 is 8\n"
          ]
        }
      ]
    },
    {
      "cell_type": "code",
      "source": [],
      "metadata": {
        "id": "-8H97wAuj0P5"
      },
      "execution_count": null,
      "outputs": []
    },
    {
      "cell_type": "markdown",
      "source": [
        "Q4. Why is proper indentation important in Python?\n",
        "\n",
        "Ans - Proper indentation is crucial in Python because it is used to define the structure and scope of code blocks. Unlike many other programming languages that use braces or keywords to delineate blocks of code, Python uses indentation to indicate which statements belong to which code blocks. The indentation level determines the hierarchy of code blocks, such as loops, conditionals, functions, and classes.\n"
      ],
      "metadata": {
        "id": "Q8j0KbsAkkmI"
      }
    },
    {
      "cell_type": "code",
      "source": [
        "# Incorrect indentation\n",
        "if True:\n",
        "print(\"This statement is not indented correctly\")\n",
        "\n",
        "# Correct indentation\n",
        "if True:\n",
        "  print(\"This statement is properly indented\")\n"
      ],
      "metadata": {
        "colab": {
          "base_uri": "https://localhost:8080/"
        },
        "id": "hyfn9sClk2-Y",
        "outputId": "53670984-f5ea-4b61-e1a9-2c4736c971ec"
      },
      "execution_count": 17,
      "outputs": [
        {
          "output_type": "stream",
          "name": "stdout",
          "text": [
            "This statement is properly indented\n"
          ]
        }
      ]
    },
    {
      "cell_type": "code",
      "source": [],
      "metadata": {
        "id": "p9x2bApsk4eH"
      },
      "execution_count": null,
      "outputs": []
    },
    {
      "cell_type": "markdown",
      "source": [
        "Q5. What happens if indentation is incorrect in Python?\n",
        "\n",
        "Ans - If the indentation is incorrect in Python, it can lead to syntax errors or alter the logical structure of the code, resulting in unexpected behavior. Python relies on indentation to define the structure and scope of code blocks, such as loops, conditionals, functions, and classes. Incorrect indentation can cause the interpreter to misinterpret the intended structure of the code."
      ],
      "metadata": {
        "id": "5a8CJwFBlT82"
      }
    },
    {
      "cell_type": "code",
      "source": [],
      "metadata": {
        "id": "ZcWytFTklefO"
      },
      "execution_count": null,
      "outputs": []
    },
    {
      "cell_type": "markdown",
      "source": [
        "Q6. Differentiate between expression and statement in Python with examples.\n",
        "\n",
        "Ans - Expression:\n",
        "\n",
        "An expression is a combination of values, variables, operators, and function calls that evaluates to a single value.\n",
        "\n",
        "Expressions can be simple, such as a single variable or literal value, or complex, involving multiple operators and function calls.\n",
        "\n",
        "Expressions can be used wherever a value is expected in Python, such as assignments, function arguments, and conditions."
      ],
      "metadata": {
        "id": "NcXCyBcHlju2"
      }
    },
    {
      "cell_type": "code",
      "source": [
        "#Examples of expressions:\n",
        "x = 5  # Assignment expression\n",
        "y = x + 3  # Arithmetic expression\n",
        "z = max(10, 20)  # Function call expression"
      ],
      "metadata": {
        "id": "9oaWiYrAmCHR"
      },
      "execution_count": 19,
      "outputs": []
    },
    {
      "cell_type": "markdown",
      "source": [
        "\n",
        "Statement:\n",
        "\n",
        "A statement is a complete unit of execution that performs a specific action. It usually represents a complete instruction that the Python interpreter can execute.\n",
        "\n",
        "Statements can include expressions but are not limited to them. They can also include control flow constructs, such as loops and conditionals\n",
        "\n",
        "Statements in Python typically end with a newline character or a semicolon (;) if multiple statements are written on the same line.\n",
        "\n"
      ],
      "metadata": {
        "id": "dpfSTAXsmIIF"
      }
    },
    {
      "cell_type": "code",
      "source": [
        "x = 5  # Assignment statement\n",
        "print(\"Hello, world!\")  # Function call statement\n",
        "if x > 0:  # Conditional statement\n",
        "    print(\"x is positive\")\n"
      ],
      "metadata": {
        "colab": {
          "base_uri": "https://localhost:8080/"
        },
        "id": "YGTGst9QmWN9",
        "outputId": "4841517a-b082-4685-c971-171b46209e7b"
      },
      "execution_count": 20,
      "outputs": [
        {
          "output_type": "stream",
          "name": "stdout",
          "text": [
            "Hello, world!\n",
            "x is positive\n"
          ]
        }
      ]
    },
    {
      "cell_type": "code",
      "source": [],
      "metadata": {
        "id": "JBzjVYc1mZHV"
      },
      "execution_count": null,
      "outputs": []
    }
  ]
}